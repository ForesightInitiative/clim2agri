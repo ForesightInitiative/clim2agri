{
 "cells": [
  {
   "cell_type": "markdown",
   "metadata": {},
   "source": [
    "# WARNINGS!"
   ]
  },
  {
   "cell_type": "markdown",
   "metadata": {},
   "source": [
    "Be aware that you need to follow additional steps before being able to download data from\n",
    "\n",
    "* **Imerg**: create account on EarthData website and then run imerge.py code\n",
    "* **MSWEP** and **MSWX**: create account and then configure rclone\n",
    "* **AgERA5**:create account and configure API key"
   ]
  },
  {
   "cell_type": "markdown",
   "metadata": {},
   "source": [
    "# How to ...? "
   ]
  },
  {
   "cell_type": "markdown",
   "metadata": {},
   "source": [
    "The code below will guide you through different tools. Use them as it is more convinient for you.\n",
    "\n",
    "Run the following line which will provide us with all the necesary functions."
   ]
  },
  {
   "cell_type": "code",
   "execution_count": 1,
   "metadata": {},
   "outputs": [],
   "source": [
    "from crop_models_input_files import * "
   ]
  },
  {
   "cell_type": "markdown",
   "metadata": {},
   "source": [
    "Define the initial and final dates, and also the lattitude and longitude of interest."
   ]
  },
  {
   "cell_type": "code",
   "execution_count": 3,
   "metadata": {},
   "outputs": [],
   "source": [
    "ini_date = '2000-12-25' # YYYY-MM-DD\n",
    "fin_date = '2001-01-25' # YYYY-MM-DD\n",
    "lat = -35.3960 # Decimal degrees\n",
    "lon = -71.7988 # Decimal degrees"
   ]
  },
  {
   "cell_type": "markdown",
   "metadata": {},
   "source": [
    "Make sure to create an empty file named 'weather variables.csv' with the following command. If the file is already in your directory with some data, be aware that the command will earese existing information."
   ]
  },
  {
   "cell_type": "code",
   "execution_count": 4,
   "metadata": {},
   "outputs": [
    {
     "name": "stdout",
     "output_type": "stream",
     "text": [
      "----- A new file named: weather_variables.csv has been created -----\n"
     ]
    }
   ],
   "source": [
    "create_empty_csv()"
   ]
  },
  {
   "cell_type": "markdown",
   "metadata": {},
   "source": [
    "The code below will give you a list of variables that can be downloaded, and then a list of meteorological gridded products from which you can choose the source you want."
   ]
  },
  {
   "cell_type": "code",
   "execution_count": 5,
   "metadata": {},
   "outputs": [
    {
     "name": "stdout",
     "output_type": "stream",
     "text": [
      "------ t2m_min,C Downloaded Successfully! -----\n"
     ]
    }
   ],
   "source": [
    "download_variable(ini_date,fin_date,lat,lon)"
   ]
  },
  {
   "cell_type": "code",
   "execution_count": 7,
   "metadata": {},
   "outputs": [
    {
     "name": "stdout",
     "output_type": "stream",
     "text": [
      "------ t2m_mean,C Downloaded Successfully! -----\n"
     ]
    }
   ],
   "source": [
    "download_variable(ini_date,fin_date,lat,lon)"
   ]
  },
  {
   "cell_type": "markdown",
   "metadata": {},
   "source": [
    "Notice that once the 'weather_variables.csv' file is created, you can upload your own data in case you have it."
   ]
  },
  {
   "cell_type": "markdown",
   "metadata": {},
   "source": [
    "Now you can already start creating input files for each crop model. The function is build_NAME_input_file(lat,lon), where NAME can be any of:\n",
    "* AQUACROP\n",
    "* APSIM\n",
    "* CROPSYST\n",
    "* DSSAT\n",
    "* EPIC\n",
    "* ORIZA\n",
    "* STICS\n",
    "* WOFOST"
   ]
  },
  {
   "cell_type": "code",
   "execution_count": 3,
   "metadata": {},
   "outputs": [
    {
     "name": "stdout",
     "output_type": "stream",
     "text": [
      "----- File has been built successfully! -----\n"
     ]
    }
   ],
   "source": [
    "build_AQUACROP_input_file(lat,lon)"
   ]
  },
  {
   "cell_type": "code",
   "execution_count": 7,
   "metadata": {},
   "outputs": [
    {
     "name": "stdout",
     "output_type": "stream",
     "text": [
      "----- File has been built successfully! -----\n"
     ]
    }
   ],
   "source": [
    "build_APSIM_input_file(lat,lon)"
   ]
  },
  {
   "cell_type": "code",
   "execution_count": 11,
   "metadata": {},
   "outputs": [
    {
     "name": "stdout",
     "output_type": "stream",
     "text": [
      "----- File has been built successfully! -----\n"
     ]
    }
   ],
   "source": [
    "build_CROPSYST_input_file(lat,lon)"
   ]
  },
  {
   "cell_type": "code",
   "execution_count": 3,
   "metadata": {},
   "outputs": [
    {
     "name": "stdout",
     "output_type": "stream",
     "text": [
      "----- File has been built successfully! -----\n"
     ]
    }
   ],
   "source": [
    "build_DSSAT_input_file(lat,lon)"
   ]
  },
  {
   "cell_type": "code",
   "execution_count": 7,
   "metadata": {},
   "outputs": [
    {
     "name": "stdout",
     "output_type": "stream",
     "text": [
      "----- File has been built successfully! -----\n"
     ]
    }
   ],
   "source": [
    "build_EPIC_input_file(lat,lon)"
   ]
  },
  {
   "cell_type": "code",
   "execution_count": 4,
   "metadata": {},
   "outputs": [
    {
     "name": "stdout",
     "output_type": "stream",
     "text": [
      "----- File has been built successfully! -----\n"
     ]
    }
   ],
   "source": [
    "build_ORIZA_input_file(lat,lon)"
   ]
  },
  {
   "cell_type": "code",
   "execution_count": 9,
   "metadata": {},
   "outputs": [
    {
     "name": "stdout",
     "output_type": "stream",
     "text": [
      "----- File has been built successfully! -----\n"
     ]
    }
   ],
   "source": [
    "build_STICS_input_file(lat,lon)"
   ]
  },
  {
   "cell_type": "code",
   "execution_count": 4,
   "metadata": {},
   "outputs": [
    {
     "name": "stdout",
     "output_type": "stream",
     "text": [
      "----- File has been built successfully! -----\n"
     ]
    }
   ],
   "source": [
    "build_WOFOST_input_file(lat,lon)"
   ]
  }
 ],
 "metadata": {
  "kernelspec": {
   "display_name": "clim2agri_env",
   "language": "python",
   "name": "python3"
  },
  "language_info": {
   "codemirror_mode": {
    "name": "ipython",
    "version": 3
   },
   "file_extension": ".py",
   "mimetype": "text/x-python",
   "name": "python",
   "nbconvert_exporter": "python",
   "pygments_lexer": "ipython3",
   "version": "3.11.4"
  }
 },
 "nbformat": 4,
 "nbformat_minor": 2
}
